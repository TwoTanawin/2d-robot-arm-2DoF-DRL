{
 "cells": [
  {
   "cell_type": "code",
   "execution_count": 23,
   "metadata": {},
   "outputs": [],
   "source": [
    "from modified_env import CustomEnv\n",
    "import gymnasium as gym\n",
    "from stable_baselines3 import PPO, A2C\n",
    "import pygame"
   ]
  },
  {
   "cell_type": "code",
   "execution_count": 24,
   "metadata": {},
   "outputs": [],
   "source": [
    "screen = pygame.display.set_mode((800, 600))\n",
    "env = CustomEnv(screen)"
   ]
  },
  {
   "cell_type": "code",
   "execution_count": 3,
   "metadata": {},
   "outputs": [
    {
     "name": "stdout",
     "output_type": "stream",
     "text": [
      "Using cuda device\n",
      "Wrapping the env with a `Monitor` wrapper\n",
      "Wrapping the env in a DummyVecEnv.\n",
      "Wrapping the env in a VecTransposeImage.\n"
     ]
    },
    {
     "name": "stderr",
     "output_type": "stream",
     "text": [
      "/home/koala/.local/lib/python3.11/site-packages/tqdm/auto.py:22: TqdmWarning: IProgress not found. Please update jupyter and ipywidgets. See https://ipywidgets.readthedocs.io/en/stable/user_install.html\n",
      "  from .autonotebook import tqdm as notebook_tqdm\n"
     ]
    }
   ],
   "source": [
    "ppo_mlp_model = PPO(\"MlpPolicy\", env, verbose=1, batch_size=4)"
   ]
  },
  {
   "cell_type": "code",
   "execution_count": 4,
   "metadata": {},
   "outputs": [
    {
     "name": "stdout",
     "output_type": "stream",
     "text": [
      "Layer 0: torch.Size([64, 1440000])\n",
      "Layer 1: torch.Size([64])\n",
      "Layer 2: torch.Size([64, 64])\n",
      "Layer 3: torch.Size([64])\n",
      "Layer 4: torch.Size([64, 1440000])\n",
      "Layer 5: torch.Size([64])\n",
      "Layer 6: torch.Size([64, 64])\n",
      "Layer 7: torch.Size([64])\n",
      "Layer 8: torch.Size([5, 64])\n",
      "Layer 9: torch.Size([5])\n",
      "Layer 10: torch.Size([1, 64])\n",
      "Layer 11: torch.Size([1])\n",
      "ActorCriticPolicy(\n",
      "  (features_extractor): FlattenExtractor(\n",
      "    (flatten): Flatten(start_dim=1, end_dim=-1)\n",
      "  )\n",
      "  (pi_features_extractor): FlattenExtractor(\n",
      "    (flatten): Flatten(start_dim=1, end_dim=-1)\n",
      "  )\n",
      "  (vf_features_extractor): FlattenExtractor(\n",
      "    (flatten): Flatten(start_dim=1, end_dim=-1)\n",
      "  )\n",
      "  (mlp_extractor): MlpExtractor(\n",
      "    (policy_net): Sequential(\n",
      "      (0): Linear(in_features=1440000, out_features=64, bias=True)\n",
      "      (1): Tanh()\n",
      "      (2): Linear(in_features=64, out_features=64, bias=True)\n",
      "      (3): Tanh()\n",
      "    )\n",
      "    (value_net): Sequential(\n",
      "      (0): Linear(in_features=1440000, out_features=64, bias=True)\n",
      "      (1): Tanh()\n",
      "      (2): Linear(in_features=64, out_features=64, bias=True)\n",
      "      (3): Tanh()\n",
      "    )\n",
      "  )\n",
      "  (action_net): Linear(in_features=64, out_features=5, bias=True)\n",
      "  (value_net): Linear(in_features=64, out_features=1, bias=True)\n",
      ")\n"
     ]
    }
   ],
   "source": [
    "# Access the neural network from the policy of the PPO model\n",
    "neural_network = ppo_mlp_model.policy.to('cuda')\n",
    "\n",
    "# Get the parameters of the neural network\n",
    "parameters = list(neural_network.parameters())\n",
    "\n",
    "# Print out the layers and their corresponding parameters\"\n",
    "for i, param in enumerate(parameters):\n",
    "    print(f\"Layer {i}: {param.shape}\")\n",
    "\n",
    "# Optionally, you can print the entire neural network architecture\n",
    "print(neural_network)"
   ]
  },
  {
   "cell_type": "code",
   "execution_count": 6,
   "metadata": {},
   "outputs": [
    {
     "name": "stdout",
     "output_type": "stream",
     "text": [
      "Using cuda device\n",
      "Wrapping the env with a `Monitor` wrapper\n",
      "Wrapping the env in a DummyVecEnv.\n",
      "Wrapping the env in a VecTransposeImage.\n"
     ]
    }
   ],
   "source": [
    "a2c_mlp_model = A2C(\"MlpPolicy\", env, verbose=1)"
   ]
  },
  {
   "cell_type": "code",
   "execution_count": 22,
   "metadata": {},
   "outputs": [
    {
     "ename": "NameError",
     "evalue": "name 'a2c_mlp_model' is not defined",
     "output_type": "error",
     "traceback": [
      "\u001b[0;31m---------------------------------------------------------------------------\u001b[0m",
      "\u001b[0;31mNameError\u001b[0m                                 Traceback (most recent call last)",
      "Cell \u001b[0;32mIn[22], line 2\u001b[0m\n\u001b[1;32m      1\u001b[0m \u001b[38;5;66;03m# Access the neural network from the policy of the PPO model\u001b[39;00m\n\u001b[0;32m----> 2\u001b[0m neural_network \u001b[38;5;241m=\u001b[39m \u001b[43ma2c_mlp_model\u001b[49m\u001b[38;5;241m.\u001b[39mpolicy\u001b[38;5;241m.\u001b[39mto(\u001b[38;5;124m'\u001b[39m\u001b[38;5;124mcuda\u001b[39m\u001b[38;5;124m'\u001b[39m)\n\u001b[1;32m      4\u001b[0m \u001b[38;5;66;03m# Get the parameters of the neural network\u001b[39;00m\n\u001b[1;32m      5\u001b[0m parameters \u001b[38;5;241m=\u001b[39m \u001b[38;5;28mlist\u001b[39m(neural_network\u001b[38;5;241m.\u001b[39mparameters())\n",
      "\u001b[0;31mNameError\u001b[0m: name 'a2c_mlp_model' is not defined"
     ]
    }
   ],
   "source": [
    "# Access the neural network from the policy of the PPO model\n",
    "neural_network = a2c_mlp_model.policy.to('cuda')\n",
    "\n",
    "# Get the parameters of the neural network\n",
    "parameters = list(neural_network.parameters())\n",
    "\n",
    "# Print out the layers and their corresponding parameters\n",
    "for i, param in enumerate(parameters):\n",
    "    print(f\"Layer {i}: {param.shape}\")\n",
    "\n",
    "# Optionally, you can print the entire neural network architecture\n",
    "print(neural_network)"
   ]
  },
  {
   "cell_type": "code",
   "execution_count": 9,
   "metadata": {},
   "outputs": [],
   "source": [
    "from stable_baselines3.common.torch_layers import BaseFeaturesExtractor\n",
    "import torch \n",
    "import torch.nn as nn"
   ]
  },
  {
   "cell_type": "code",
   "execution_count": 11,
   "metadata": {},
   "outputs": [],
   "source": [
    "device = 'cuda' if torch.cuda.is_available() else 'cpu'"
   ]
  },
  {
   "cell_type": "code",
   "execution_count": 12,
   "metadata": {},
   "outputs": [],
   "source": [
    "# Define the custom CNN feature extractor\n",
    "class CustomCNN(BaseFeaturesExtractor):\n",
    "    def __init__(self, observation_space: gym.spaces.Box, features_dim: int = 256):\n",
    "        super().__init__(observation_space, features_dim)\n",
    "        n_input_channels = observation_space.shape[0]\n",
    "        self.cnn = nn.Sequential(\n",
    "            nn.Conv2d(n_input_channels, 32, kernel_size=8, stride=4),\n",
    "            nn.ReLU(),\n",
    "            nn.Conv2d(32, 64, kernel_size=4, stride=2),\n",
    "            nn.ReLU(),\n",
    "            nn.Flatten(),\n",
    "        )\n",
    "\n",
    "        with torch.no_grad():\n",
    "            n_flatten = self.cnn(torch.as_tensor(observation_space.sample()[None]).float()).shape[1]\n",
    "        self.linear = nn.Sequential(nn.Linear(n_flatten, features_dim), nn.ReLU())\n",
    "\n",
    "    def forward(self, observations: torch.Tensor) -> torch.Tensor:\n",
    "        return self.linear(self.cnn(observations))"
   ]
  },
  {
   "cell_type": "code",
   "execution_count": 17,
   "metadata": {},
   "outputs": [],
   "source": [
    "# Set up PPO with the custom CNN\n",
    "policy_kwargs = {\n",
    "    \"features_extractor_class\": CustomCNN,\n",
    "    \"features_extractor_kwargs\": {\"features_dim\": 128}\n",
    "}"
   ]
  },
  {
   "cell_type": "code",
   "execution_count": 16,
   "metadata": {},
   "outputs": [
    {
     "name": "stdout",
     "output_type": "stream",
     "text": [
      "Using cuda device\n",
      "Wrapping the env with a `Monitor` wrapper\n",
      "Wrapping the env in a DummyVecEnv.\n",
      "Wrapping the env in a VecTransposeImage.\n"
     ]
    }
   ],
   "source": [
    "a2c_cnn_model = A2C(\"CnnPolicy\", env, verbose=1, policy_kwargs=policy_kwargs)"
   ]
  },
  {
   "cell_type": "code",
   "execution_count": 15,
   "metadata": {},
   "outputs": [
    {
     "name": "stdout",
     "output_type": "stream",
     "text": [
      "Layer 0: torch.Size([32, 3, 8, 8])\n",
      "Layer 1: torch.Size([32])\n",
      "Layer 2: torch.Size([64, 32, 4, 4])\n",
      "Layer 3: torch.Size([64])\n",
      "Layer 4: torch.Size([128, 457856])\n",
      "Layer 5: torch.Size([128])\n",
      "Layer 6: torch.Size([64, 128])\n",
      "Layer 7: torch.Size([64])\n",
      "Layer 8: torch.Size([64, 64])\n",
      "Layer 9: torch.Size([64])\n",
      "Layer 10: torch.Size([64, 128])\n",
      "Layer 11: torch.Size([64])\n",
      "Layer 12: torch.Size([64, 64])\n",
      "Layer 13: torch.Size([64])\n",
      "Layer 14: torch.Size([5, 64])\n",
      "Layer 15: torch.Size([5])\n",
      "Layer 16: torch.Size([1, 64])\n",
      "Layer 17: torch.Size([1])\n",
      "ActorCriticCnnPolicy(\n",
      "  (features_extractor): CustomCNN(\n",
      "    (cnn): Sequential(\n",
      "      (0): Conv2d(3, 32, kernel_size=(8, 8), stride=(4, 4))\n",
      "      (1): ReLU()\n",
      "      (2): Conv2d(32, 64, kernel_size=(4, 4), stride=(2, 2))\n",
      "      (3): ReLU()\n",
      "      (4): Flatten(start_dim=1, end_dim=-1)\n",
      "    )\n",
      "    (linear): Sequential(\n",
      "      (0): Linear(in_features=457856, out_features=128, bias=True)\n",
      "      (1): ReLU()\n",
      "    )\n",
      "  )\n",
      "  (pi_features_extractor): CustomCNN(\n",
      "    (cnn): Sequential(\n",
      "      (0): Conv2d(3, 32, kernel_size=(8, 8), stride=(4, 4))\n",
      "      (1): ReLU()\n",
      "      (2): Conv2d(32, 64, kernel_size=(4, 4), stride=(2, 2))\n",
      "      (3): ReLU()\n",
      "      (4): Flatten(start_dim=1, end_dim=-1)\n",
      "    )\n",
      "    (linear): Sequential(\n",
      "      (0): Linear(in_features=457856, out_features=128, bias=True)\n",
      "      (1): ReLU()\n",
      "    )\n",
      "  )\n",
      "  (vf_features_extractor): CustomCNN(\n",
      "    (cnn): Sequential(\n",
      "      (0): Conv2d(3, 32, kernel_size=(8, 8), stride=(4, 4))\n",
      "      (1): ReLU()\n",
      "      (2): Conv2d(32, 64, kernel_size=(4, 4), stride=(2, 2))\n",
      "      (3): ReLU()\n",
      "      (4): Flatten(start_dim=1, end_dim=-1)\n",
      "    )\n",
      "    (linear): Sequential(\n",
      "      (0): Linear(in_features=457856, out_features=128, bias=True)\n",
      "      (1): ReLU()\n",
      "    )\n",
      "  )\n",
      "  (mlp_extractor): MlpExtractor(\n",
      "    (policy_net): Sequential(\n",
      "      (0): Linear(in_features=128, out_features=64, bias=True)\n",
      "      (1): Tanh()\n",
      "      (2): Linear(in_features=64, out_features=64, bias=True)\n",
      "      (3): Tanh()\n",
      "    )\n",
      "    (value_net): Sequential(\n",
      "      (0): Linear(in_features=128, out_features=64, bias=True)\n",
      "      (1): Tanh()\n",
      "      (2): Linear(in_features=64, out_features=64, bias=True)\n",
      "      (3): Tanh()\n",
      "    )\n",
      "  )\n",
      "  (action_net): Linear(in_features=64, out_features=5, bias=True)\n",
      "  (value_net): Linear(in_features=64, out_features=1, bias=True)\n",
      ")\n"
     ]
    }
   ],
   "source": [
    "# Access the neural network from the policy of the PPO model\n",
    "neural_network = a2c_cnn_model.policy.to('cuda')\n",
    "\n",
    "# Get the parameters of the neural network\n",
    "parameters = list(neural_network.parameters())\n",
    "\n",
    "# Print out the layers and their corresponding parameters\n",
    "for i, param in enumerate(parameters):\n",
    "    print(f\"Layer {i}: {param.shape}\")\n",
    "\n",
    "# Optionally, you can print the entire neural network architecture\n",
    "print(neural_network)"
   ]
  },
  {
   "cell_type": "code",
   "execution_count": 21,
   "metadata": {},
   "outputs": [
    {
     "ename": "NameError",
     "evalue": "name 'a2c_mlp_model' is not defined",
     "output_type": "error",
     "traceback": [
      "\u001b[0;31m---------------------------------------------------------------------------\u001b[0m",
      "\u001b[0;31mNameError\u001b[0m                                 Traceback (most recent call last)",
      "Cell \u001b[0;32mIn[21], line 6\u001b[0m\n\u001b[1;32m      3\u001b[0m \u001b[38;5;28;01mimport\u001b[39;00m \u001b[38;5;21;01mmatplotlib\u001b[39;00m\u001b[38;5;21;01m.\u001b[39;00m\u001b[38;5;21;01mpyplot\u001b[39;00m \u001b[38;5;28;01mas\u001b[39;00m \u001b[38;5;21;01mplt\u001b[39;00m\n\u001b[1;32m      5\u001b[0m \u001b[38;5;66;03m# Access the neural network from the policy of the PPO model\u001b[39;00m\n\u001b[0;32m----> 6\u001b[0m neural_network \u001b[38;5;241m=\u001b[39m \u001b[43ma2c_mlp_model\u001b[49m\u001b[38;5;241m.\u001b[39mpolicy\u001b[38;5;241m.\u001b[39mto(\u001b[38;5;124m'\u001b[39m\u001b[38;5;124mcuda\u001b[39m\u001b[38;5;124m'\u001b[39m)\u001b[38;5;66;03m# Move to CPU if necessary\u001b[39;00m\n\u001b[1;32m      8\u001b[0m \u001b[38;5;66;03m# Dummy input for the visualization\u001b[39;00m\n\u001b[1;32m      9\u001b[0m dummy_input \u001b[38;5;241m=\u001b[39m torch\u001b[38;5;241m.\u001b[39mrandn(\u001b[38;5;241m1\u001b[39m, \u001b[38;5;241m*\u001b[39menv\u001b[38;5;241m.\u001b[39mobservation_space\u001b[38;5;241m.\u001b[39mshape)\n",
      "\u001b[0;31mNameError\u001b[0m: name 'a2c_mlp_model' is not defined"
     ]
    }
   ],
   "source": [
    "import torchviz\n",
    "from torch import save\n",
    "import matplotlib.pyplot as plt\n",
    "\n",
    "# Access the neural network from the policy of the PPO model\n",
    "neural_network = a2c_mlp_model.policy.to('cuda')# Move to CPU if necessary\n",
    "\n",
    "# Dummy input for the visualization\n",
    "dummy_input = torch.randn(1, *env.observation_space.shape)\n",
    "\n",
    "# Generate the computational graph\n",
    "graph = torchviz.make_dot(neural_network(dummy_input), params=dict(neural_network.named_parameters()))\n",
    "\n",
    "# Save the graph as a JPEG file\n",
    "graph.render(\"neural_network_architecture\", format=\"jpg\")\n",
    "\n",
    "# Display the graph\n",
    "graph.view()\n"
   ]
  },
  {
   "cell_type": "code",
   "execution_count": 18,
   "metadata": {},
   "outputs": [
    {
     "name": "stdout",
     "output_type": "stream",
     "text": [
      "Using cuda device\n",
      "Wrapping the env with a `Monitor` wrapper\n",
      "Wrapping the env in a DummyVecEnv.\n",
      "Wrapping the env in a VecTransposeImage.\n"
     ]
    }
   ],
   "source": [
    "ppo_cnn_model = A2C(\"CnnPolicy\", env, verbose=1, policy_kwargs=policy_kwargs)"
   ]
  },
  {
   "cell_type": "code",
   "execution_count": 19,
   "metadata": {},
   "outputs": [
    {
     "name": "stdout",
     "output_type": "stream",
     "text": [
      "Layer 0: torch.Size([32, 3, 8, 8])\n",
      "Layer 1: torch.Size([32])\n",
      "Layer 2: torch.Size([64, 32, 4, 4])\n",
      "Layer 3: torch.Size([64])\n",
      "Layer 4: torch.Size([128, 457856])\n",
      "Layer 5: torch.Size([128])\n",
      "Layer 6: torch.Size([64, 128])\n",
      "Layer 7: torch.Size([64])\n",
      "Layer 8: torch.Size([64, 64])\n",
      "Layer 9: torch.Size([64])\n",
      "Layer 10: torch.Size([64, 128])\n",
      "Layer 11: torch.Size([64])\n",
      "Layer 12: torch.Size([64, 64])\n",
      "Layer 13: torch.Size([64])\n",
      "Layer 14: torch.Size([5, 64])\n",
      "Layer 15: torch.Size([5])\n",
      "Layer 16: torch.Size([1, 64])\n",
      "Layer 17: torch.Size([1])\n",
      "ActorCriticCnnPolicy(\n",
      "  (features_extractor): CustomCNN(\n",
      "    (cnn): Sequential(\n",
      "      (0): Conv2d(3, 32, kernel_size=(8, 8), stride=(4, 4))\n",
      "      (1): ReLU()\n",
      "      (2): Conv2d(32, 64, kernel_size=(4, 4), stride=(2, 2))\n",
      "      (3): ReLU()\n",
      "      (4): Flatten(start_dim=1, end_dim=-1)\n",
      "    )\n",
      "    (linear): Sequential(\n",
      "      (0): Linear(in_features=457856, out_features=128, bias=True)\n",
      "      (1): ReLU()\n",
      "    )\n",
      "  )\n",
      "  (pi_features_extractor): CustomCNN(\n",
      "    (cnn): Sequential(\n",
      "      (0): Conv2d(3, 32, kernel_size=(8, 8), stride=(4, 4))\n",
      "      (1): ReLU()\n",
      "      (2): Conv2d(32, 64, kernel_size=(4, 4), stride=(2, 2))\n",
      "      (3): ReLU()\n",
      "      (4): Flatten(start_dim=1, end_dim=-1)\n",
      "    )\n",
      "    (linear): Sequential(\n",
      "      (0): Linear(in_features=457856, out_features=128, bias=True)\n",
      "      (1): ReLU()\n",
      "    )\n",
      "  )\n",
      "  (vf_features_extractor): CustomCNN(\n",
      "    (cnn): Sequential(\n",
      "      (0): Conv2d(3, 32, kernel_size=(8, 8), stride=(4, 4))\n",
      "      (1): ReLU()\n",
      "      (2): Conv2d(32, 64, kernel_size=(4, 4), stride=(2, 2))\n",
      "      (3): ReLU()\n",
      "      (4): Flatten(start_dim=1, end_dim=-1)\n",
      "    )\n",
      "    (linear): Sequential(\n",
      "      (0): Linear(in_features=457856, out_features=128, bias=True)\n",
      "      (1): ReLU()\n",
      "    )\n",
      "  )\n",
      "  (mlp_extractor): MlpExtractor(\n",
      "    (policy_net): Sequential(\n",
      "      (0): Linear(in_features=128, out_features=64, bias=True)\n",
      "      (1): Tanh()\n",
      "      (2): Linear(in_features=64, out_features=64, bias=True)\n",
      "      (3): Tanh()\n",
      "    )\n",
      "    (value_net): Sequential(\n",
      "      (0): Linear(in_features=128, out_features=64, bias=True)\n",
      "      (1): Tanh()\n",
      "      (2): Linear(in_features=64, out_features=64, bias=True)\n",
      "      (3): Tanh()\n",
      "    )\n",
      "  )\n",
      "  (action_net): Linear(in_features=64, out_features=5, bias=True)\n",
      "  (value_net): Linear(in_features=64, out_features=1, bias=True)\n",
      ")\n"
     ]
    }
   ],
   "source": [
    "# Access the neural network from the policy of the PPO model\n",
    "neural_network = ppo_cnn_model.policy.to('cuda')\n",
    "\n",
    "# Get the parameters of the neural network\n",
    "parameters = list(neural_network.parameters())\n",
    "\n",
    "# Print out the layers and their corresponding parameters\n",
    "for i, param in enumerate(parameters):\n",
    "    print(f\"Layer {i}: {param.shape}\")\n",
    "\n",
    "# Optionally, you can print the entire neural network architecture\n",
    "print(neural_network)"
   ]
  }
 ],
 "metadata": {
  "kernelspec": {
   "display_name": "Python 3",
   "language": "python",
   "name": "python3"
  },
  "language_info": {
   "codemirror_mode": {
    "name": "ipython",
    "version": 3
   },
   "file_extension": ".py",
   "mimetype": "text/x-python",
   "name": "python",
   "nbconvert_exporter": "python",
   "pygments_lexer": "ipython3",
   "version": "3.11.6"
  }
 },
 "nbformat": 4,
 "nbformat_minor": 2
}
